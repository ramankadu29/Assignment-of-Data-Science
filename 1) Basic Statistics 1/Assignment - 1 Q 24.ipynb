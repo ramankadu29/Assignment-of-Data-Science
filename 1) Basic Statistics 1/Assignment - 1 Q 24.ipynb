{
 "cells": [
  {
   "cell_type": "code",
   "execution_count": 1,
   "id": "94ec5a0f",
   "metadata": {},
   "outputs": [],
   "source": [
    "import numpy as np\n",
    "from scipy import stats\n",
    "from scipy.stats import norm"
   ]
  },
  {
   "cell_type": "code",
   "execution_count": null,
   "id": "89748fb4",
   "metadata": {},
   "outputs": [],
   "source": [
    "## from problem statment:- n = 18 , s-mean = 260 , p-mean = 270 , SD = 90 , df= 17\n",
    "                           # Assume Null Hypothesis is: Ho = Avg life of Bulb >= 260 days\n",
    "                           # Alternate Hypothesis is: Ha = Avg life of Bulb < 260 days"
   ]
  },
  {
   "cell_type": "code",
   "execution_count": 3,
   "id": "52f1fa96",
   "metadata": {},
   "outputs": [
    {
     "data": {
      "text/plain": [
       "-0.4714045207910317"
      ]
     },
     "execution_count": 3,
     "metadata": {},
     "output_type": "execute_result"
    }
   ],
   "source": [
    "# find t-scores at x=260; t=(s_mean-P_mean)/(s_SD/sqrt(n))\n",
    "t = (260-270)/(90/np.sqrt(18))\n",
    "t"
   ]
  },
  {
   "cell_type": "code",
   "execution_count": 4,
   "id": "4d3e2635",
   "metadata": {},
   "outputs": [],
   "source": [
    "# P(X>=260) for null hypothesis?"
   ]
  },
  {
   "cell_type": "code",
   "execution_count": 6,
   "id": "180b488f",
   "metadata": {},
   "outputs": [
    {
     "data": {
      "text/plain": [
       "0.32181403316850754"
      ]
     },
     "execution_count": 6,
     "metadata": {},
     "output_type": "execute_result"
    }
   ],
   "source": [
    "p_value = 1-stats.t.cdf(abs(-0.471),df=17)\n",
    "p_value"
   ]
  }
 ],
 "metadata": {
  "kernelspec": {
   "display_name": "Python 3 (ipykernel)",
   "language": "python",
   "name": "python3"
  },
  "language_info": {
   "codemirror_mode": {
    "name": "ipython",
    "version": 3
   },
   "file_extension": ".py",
   "mimetype": "text/x-python",
   "name": "python",
   "nbconvert_exporter": "python",
   "pygments_lexer": "ipython3",
   "version": "3.11.3"
  }
 },
 "nbformat": 4,
 "nbformat_minor": 5
}
