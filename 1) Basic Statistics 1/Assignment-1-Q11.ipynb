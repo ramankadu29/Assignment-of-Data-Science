{
 "cells": [
  {
   "cell_type": "code",
   "execution_count": 9,
   "id": "8ee72f7f",
   "metadata": {},
   "outputs": [],
   "source": [
    "import numpy as np\n",
    "import scipy as sp\n",
    "import seaborn as sb\n",
    "from scipy import stats\n",
    "import scipy.stats as norm"
   ]
  },
  {
   "cell_type": "code",
   "execution_count": 14,
   "id": "f056b2b4",
   "metadata": {},
   "outputs": [
    {
     "data": {
      "text/plain": [
       "(198.738325292158, 201.261674707842)"
      ]
     },
     "execution_count": 14,
     "metadata": {},
     "output_type": "execute_result"
    }
   ],
   "source": [
    "# Avg. weight of Adult in Mexico with 94% CI\n",
    "conf_94 = stats.norm.interval(0.94,200,30/np.sqrt(2000))\n",
    "conf_94"
   ]
  },
  {
   "cell_type": "code",
   "execution_count": 13,
   "id": "60bc5f02",
   "metadata": {},
   "outputs": [
    {
     "name": "stdout",
     "output_type": "stream",
     "text": [
      "[199. 201.]\n"
     ]
    }
   ],
   "source": [
    "print(np.round(conf_94,0))"
   ]
  },
  {
   "cell_type": "code",
   "execution_count": 18,
   "id": "430ea689",
   "metadata": {},
   "outputs": [
    {
     "data": {
      "text/plain": [
       "(198.43943840429978, 201.56056159570022)"
      ]
     },
     "execution_count": 18,
     "metadata": {},
     "output_type": "execute_result"
    }
   ],
   "source": [
    "# Avg. weight of Adult in Mexico with 98% CI\n",
    "conf_98 = stats.norm.interval(0.98,200,30/np.sqrt(2000))\n",
    "conf_98\n",
    "#print(np.round(conf_98,0))"
   ]
  },
  {
   "cell_type": "code",
   "execution_count": 19,
   "id": "6a32ebe2",
   "metadata": {},
   "outputs": [
    {
     "data": {
      "text/plain": [
       "(198.62230334813333, 201.37769665186667)"
      ]
     },
     "execution_count": 19,
     "metadata": {},
     "output_type": "execute_result"
    }
   ],
   "source": [
    "# Avg. weight of Adult in Mexico with 96% CI\n",
    "conf_96 = stats.norm.interval(0.96,200,30/np.sqrt(2000))\n",
    "conf_96\n",
    "#print(np.round(conf_98,0))"
   ]
  },
  {
   "cell_type": "code",
   "execution_count": null,
   "id": "2446c713",
   "metadata": {},
   "outputs": [],
   "source": []
  }
 ],
 "metadata": {
  "kernelspec": {
   "display_name": "Python 3 (ipykernel)",
   "language": "python",
   "name": "python3"
  },
  "language_info": {
   "codemirror_mode": {
    "name": "ipython",
    "version": 3
   },
   "file_extension": ".py",
   "mimetype": "text/x-python",
   "name": "python",
   "nbconvert_exporter": "python",
   "pygments_lexer": "ipython3",
   "version": "3.11.3"
  }
 },
 "nbformat": 4,
 "nbformat_minor": 5
}
