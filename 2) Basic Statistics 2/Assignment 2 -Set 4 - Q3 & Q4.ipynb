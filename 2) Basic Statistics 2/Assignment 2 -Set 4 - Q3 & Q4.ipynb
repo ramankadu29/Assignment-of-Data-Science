{
 "cells": [
  {
   "cell_type": "code",
   "execution_count": 1,
   "id": "3f489625",
   "metadata": {},
   "outputs": [],
   "source": [
    "import pandas as pd\n",
    "import numpy as np\n",
    "import matplotlib.pyplot as plt\n",
    "import scipy.stats as stats\n",
    "import seaborn as sns\n",
    "import statsmodels.api as smf\n",
    "import warnings\n",
    "warnings.filterwarnings('ignore')"
   ]
  },
  {
   "cell_type": "markdown",
   "id": "49130d28",
   "metadata": {},
   "source": [
    " # Set 4"
   ]
  },
  {
   "cell_type": "markdown",
   "id": "56b1eaf4",
   "metadata": {},
   "source": [
    "# Question 3\n",
    "\n",
    "Auditors at a small community bank randomly sample 100 withdrawal transactions made during the week at an ATM machine located near the bank’s main branch. Over the past 2 years, the average withdrawal amount has been 50 USD with a standard deviation of 40 USD. Since audit investigations are typically expensive, the auditors decide to not initiate further investigations if the mean transaction amount of the sample is between 45 USD and 55 USD. What is the probability that in any given week, there will be an investigation?"
   ]
  },
  {
   "cell_type": "code",
   "execution_count": 6,
   "id": "a7fb44b4",
   "metadata": {},
   "outputs": [
    {
     "data": {
      "text/plain": [
       "0.7857536624316135"
      ]
     },
     "execution_count": 6,
     "metadata": {},
     "output_type": "execute_result"
    }
   ],
   "source": [
    "# mean = 50\n",
    "# SD   = 40\n",
    "# n    = 100\n",
    "# Df   = n-1 = 99 \n",
    "\n",
    "#if the mean transactions amount increases more than 55 USD or less than 45 USD\n",
    "# no investigation if the mean transactions amount remains between 45 to 55 USD\n",
    "# We will go for t-distribution as population standard deviation is unknow.\n",
    "\n",
    "t_forty_five = (45-50)/(40/np.sqrt(100))# probability at 45\n",
    "\n",
    "t_fifty_five = (55-50)/(40/np.sqrt(100))# probanility at 55\n",
    "\n",
    "forty_five = stats.t.cdf(t_forty_five,df=99)\n",
    "\n",
    "fifty_five = stats.t.cdf(t_fifty_five,df=99)\n",
    "\n",
    "prob = fifty_five - forty_five\n",
    "\n",
    "prob\n"
   ]
  },
  {
   "cell_type": "code",
   "execution_count": 9,
   "id": "444734dd",
   "metadata": {},
   "outputs": [
    {
     "data": {
      "text/plain": [
       "array([45., 55.])"
      ]
     },
     "execution_count": 9,
     "metadata": {},
     "output_type": "execute_result"
    }
   ],
   "source": [
    "np.round(stats.t.interval(alpha = prob , df = 99 , loc = 50 ,scale = 40/np.sqrt(100)))"
   ]
  },
  {
   "cell_type": "code",
   "execution_count": 12,
   "id": "26239a2c",
   "metadata": {},
   "outputs": [
    {
     "name": "stdout",
     "output_type": "stream",
     "text": [
      "The Auditors would like to maintain the probability of investigation is 21.4 %\n"
     ]
    }
   ],
   "source": [
    "print('The Auditors would like to maintain the probability of investigation is',np.round((1-prob)*100,1),'%')"
   ]
  },
  {
   "cell_type": "markdown",
   "id": "3745f24a",
   "metadata": {},
   "source": [
    "# Question 4\n",
    "4. The auditors from the above example would like to maintain the probability of investigation to 5%. Which of the following represents the minimum number transactions that they should sample if they do not want to change the thresholds of 45 and 55? Assume that the sample statistics remain unchanged."
   ]
  },
  {
   "cell_type": "code",
   "execution_count": 19,
   "id": "edf78deb",
   "metadata": {},
   "outputs": [
    {
     "data": {
      "text/plain": [
       "-1.97"
      ]
     },
     "execution_count": 19,
     "metadata": {},
     "output_type": "execute_result"
    }
   ],
   "source": [
    "# x_bar = 45\n",
    "# mean = 50\n",
    "# SD   = 40\n",
    "\n",
    "t = np.round (stats.t.ppf(0.025, df = 249),2)\n",
    "t"
   ]
  },
  {
   "cell_type": "code",
   "execution_count": 20,
   "id": "1821f7fd",
   "metadata": {},
   "outputs": [
    {
     "data": {
      "text/plain": [
       "248.3776"
      ]
     },
     "execution_count": 20,
     "metadata": {},
     "output_type": "execute_result"
    }
   ],
   "source": [
    "n = ((40*abs(t))/(5))**2\n",
    "n"
   ]
  },
  {
   "cell_type": "code",
   "execution_count": 21,
   "id": "4d674bb3",
   "metadata": {},
   "outputs": [
    {
     "name": "stdout",
     "output_type": "stream",
     "text": [
      "248.3776 247.3776\n"
     ]
    }
   ],
   "source": [
    "df= n-1\n",
    "print(n, df)"
   ]
  },
  {
   "cell_type": "code",
   "execution_count": 23,
   "id": "9380ef5f",
   "metadata": {},
   "outputs": [
    {
     "data": {
      "text/plain": [
       "array([45., 55.])"
      ]
     },
     "execution_count": 23,
     "metadata": {},
     "output_type": "execute_result"
    }
   ],
   "source": [
    "np.round(stats.t.interval(alpha = 0.95, df = df, loc = 50, scale = 40/np.sqrt(248.3776)),)\n"
   ]
  },
  {
   "cell_type": "code",
   "execution_count": 27,
   "id": "638becac",
   "metadata": {},
   "outputs": [
    {
     "name": "stdout",
     "output_type": "stream",
     "text": [
      "The Auditors would like to maintain the probability of investigation to 5%, they should sample 248.0 transactions if they do not want to change the thresholds of 45 to 55 (248.3776, 247.3776)\n"
     ]
    }
   ],
   "source": [
    "print('The Auditors would like to maintain the probability of investigation to 5%, they should sample',np.round(n,),'transactions if they do not want to change the thresholds of 45 to 55',(n,df))\n"
   ]
  }
 ],
 "metadata": {
  "kernelspec": {
   "display_name": "Python 3 (ipykernel)",
   "language": "python",
   "name": "python3"
  },
  "language_info": {
   "codemirror_mode": {
    "name": "ipython",
    "version": 3
   },
   "file_extension": ".py",
   "mimetype": "text/x-python",
   "name": "python",
   "nbconvert_exporter": "python",
   "pygments_lexer": "ipython3",
   "version": "3.11.3"
  }
 },
 "nbformat": 4,
 "nbformat_minor": 5
}
